{
 "cells": [
  {
   "cell_type": "markdown",
   "metadata": {},
   "source": [
    "# **Linear Regression**: Human Brain Weight 🧠"
   ]
  },
  {
   "cell_type": "markdown",
   "metadata": {},
   "source": [
    "This dataset was compiled using a medical study conducted on a group of people. This dataset shows a few variations of head sizes and masses of brains, it also consists additional gender and age group columns. The goal of the study is to predict the masses of the brains using the data, and later compare it with the actual masses of brains mentioned in the dataset."
   ]
  },
  {
   "cell_type": "markdown",
   "metadata": {},
   "source": [
    "# **Linear Regression with Scikit-Learn**\n",
    "\n",
    "$\\qquad$ <span style=\"color:gray\"><b>0.</b> Settings </span><br>\n",
    "$\\qquad$ <span style=\"color:gray\"><b>1.</b> Dataset </span><br>\n",
    "$\\qquad$ <span style=\"color:gray\"><b>2.</b> Data Preprocessing </span><br>\n",
    "$\\qquad$ <span style=\"color:gray\"><b>3.</b> Data Preparation </span><br>\n",
    "$\\qquad\\qquad$ <span style=\"color:gray\"><b>3.1.</b> One-Hot-Encoding </span><br>\n",
    "$\\qquad\\qquad$ <span style=\"color:gray\"><b>3.2.</b> Ordinal-Encoding </span><br>\n",
    "$\\qquad\\qquad$ <span style=\"color:gray\"><b>3.3.</b> Update </span><br>\n",
    "$\\qquad\\qquad$ <span style=\"color:gray\"><b>3.4.</b> Split in train and validation </span><br>\n",
    "$\\qquad$ <span style=\"color:gray\"><b>4.</b> Linear Regression with Scikit-Learn </span><br>\n",
    "$\\qquad\\qquad$ <span style=\"color:gray\"><b>4.1.</b> Training </span><br>\n",
    "$\\qquad\\qquad$ <span style=\"color:gray\"><b>4.2.</b> Model choice </span><br>\n",
    "$\\qquad\\qquad$ <span style=\"color:gray\"><b>4.3.</b> Model evaluation </span><br>"
   ]
  },
  {
   "cell_type": "markdown",
   "metadata": {},
   "source": [
    "## **0.** Settings"
   ]
  },
  {
   "cell_type": "code",
   "execution_count": 98,
   "metadata": {},
   "outputs": [],
   "source": [
    "# Libraries\n",
    "from sklearn.preprocessing import OrdinalEncoder, OneHotEncoder\n",
    "from sklearn.model_selection import train_test_split\n",
    "from sklearn.metrics import mean_absolute_error\n",
    "import matplotlib.pyplot as plt \n",
    "import seaborn as sns \n",
    "import pandas as pd  \n",
    "import numpy as np\n",
    "\n",
    "%matplotlib inline\n",
    "\n",
    "# Metrics\n",
    "from sklearn.metrics import mean_squared_error, r2_score\n",
    "\n",
    "# Models\n",
    "from sklearn.linear_model import LinearRegression, Ridge, Lasso, ElasticNet\n",
    "\n",
    "# Warnings off\n",
    "import warnings\n",
    "warnings.filterwarnings(\"ignore\")"
   ]
  },
  {
   "cell_type": "markdown",
   "metadata": {},
   "source": [
    "## **1.** Dataset"
   ]
  },
  {
   "cell_type": "code",
   "execution_count": null,
   "metadata": {},
   "outputs": [],
   "source": [
    "'''\n",
    "    DATASET INFORMATIONS\n",
    "\n",
    "    |--------------|------------|-------|--------------------------------------------------------------|\n",
    "    | Name         | Data Type  | Meas. | Description                                                  |\n",
    "    |--------------|------------|-------|--------------------------------------------------------------|\n",
    "    | Gender       | nominal    |       | 1 represents Male, 2 represents Female                       |\n",
    "    | Age Range    | nominal    |       | 1 represents >18 years of age, 2 represents <18 years of age |\n",
    "    | Head Size    | continuous | cm^3  | Head volume                                                  |\n",
    "    | Brain Weight | continuous | grams | Mass of brains                                               |\n",
    "    |--------------|------------|-------|--------------------------------------------------------------|  \n",
    "\n",
    "'''"
   ]
  },
  {
   "cell_type": "code",
   "execution_count": 2,
   "metadata": {},
   "outputs": [
    {
     "data": {
      "text/html": [
       "<div>\n",
       "<style scoped>\n",
       "    .dataframe tbody tr th:only-of-type {\n",
       "        vertical-align: middle;\n",
       "    }\n",
       "\n",
       "    .dataframe tbody tr th {\n",
       "        vertical-align: top;\n",
       "    }\n",
       "\n",
       "    .dataframe thead th {\n",
       "        text-align: right;\n",
       "    }\n",
       "</style>\n",
       "<table border=\"1\" class=\"dataframe\">\n",
       "  <thead>\n",
       "    <tr style=\"text-align: right;\">\n",
       "      <th></th>\n",
       "      <th>Gender</th>\n",
       "      <th>Age Range</th>\n",
       "      <th>Head Size(cm^3)</th>\n",
       "      <th>Brain Weight(grams)</th>\n",
       "    </tr>\n",
       "  </thead>\n",
       "  <tbody>\n",
       "    <tr>\n",
       "      <th>0</th>\n",
       "      <td>1</td>\n",
       "      <td>1</td>\n",
       "      <td>4512</td>\n",
       "      <td>1530</td>\n",
       "    </tr>\n",
       "    <tr>\n",
       "      <th>1</th>\n",
       "      <td>1</td>\n",
       "      <td>1</td>\n",
       "      <td>3738</td>\n",
       "      <td>1297</td>\n",
       "    </tr>\n",
       "    <tr>\n",
       "      <th>2</th>\n",
       "      <td>1</td>\n",
       "      <td>1</td>\n",
       "      <td>4261</td>\n",
       "      <td>1335</td>\n",
       "    </tr>\n",
       "    <tr>\n",
       "      <th>3</th>\n",
       "      <td>1</td>\n",
       "      <td>1</td>\n",
       "      <td>3777</td>\n",
       "      <td>1282</td>\n",
       "    </tr>\n",
       "    <tr>\n",
       "      <th>4</th>\n",
       "      <td>1</td>\n",
       "      <td>1</td>\n",
       "      <td>4177</td>\n",
       "      <td>1590</td>\n",
       "    </tr>\n",
       "  </tbody>\n",
       "</table>\n",
       "</div>"
      ],
      "text/plain": [
       "   Gender  Age Range  Head Size(cm^3)  Brain Weight(grams)\n",
       "0       1          1             4512                 1530\n",
       "1       1          1             3738                 1297\n",
       "2       1          1             4261                 1335\n",
       "3       1          1             3777                 1282\n",
       "4       1          1             4177                 1590"
      ]
     },
     "execution_count": 2,
     "metadata": {},
     "output_type": "execute_result"
    }
   ],
   "source": [
    "# Import the dataset\n",
    "data = pd.read_csv('./dataset.csv')\n",
    "data.head()"
   ]
  },
  {
   "cell_type": "code",
   "execution_count": 3,
   "metadata": {},
   "outputs": [
    {
     "data": {
      "text/plain": [
       "Index(['Gender', 'Age Range', 'Head Size(cm^3)', 'Brain Weight(grams)'], dtype='object')"
      ]
     },
     "execution_count": 3,
     "metadata": {},
     "output_type": "execute_result"
    }
   ],
   "source": [
    "data.columns"
   ]
  },
  {
   "cell_type": "code",
   "execution_count": 4,
   "metadata": {},
   "outputs": [
    {
     "data": {
      "text/plain": [
       "Index(['Gender', 'Age Range', 'Head Size', 'Brain Weight'], dtype='object')"
      ]
     },
     "execution_count": 4,
     "metadata": {},
     "output_type": "execute_result"
    }
   ],
   "source": [
    "data.columns = ['Gender', 'Age Range', 'Head Size', 'Brain Weight']\n",
    "data.columns"
   ]
  },
  {
   "cell_type": "code",
   "execution_count": 5,
   "metadata": {},
   "outputs": [
    {
     "name": "stdout",
     "output_type": "stream",
     "text": [
      "<class 'pandas.core.frame.DataFrame'>\n",
      "RangeIndex: 237 entries, 0 to 236\n",
      "Data columns (total 4 columns):\n",
      " #   Column        Non-Null Count  Dtype\n",
      "---  ------        --------------  -----\n",
      " 0   Gender        237 non-null    int64\n",
      " 1   Age Range     237 non-null    int64\n",
      " 2   Head Size     237 non-null    int64\n",
      " 3   Brain Weight  237 non-null    int64\n",
      "dtypes: int64(4)\n",
      "memory usage: 7.5 KB\n"
     ]
    }
   ],
   "source": [
    "data.info()"
   ]
  },
  {
   "cell_type": "markdown",
   "metadata": {},
   "source": [
    "## **2.** Data Preprocessing"
   ]
  },
  {
   "cell_type": "code",
   "execution_count": 6,
   "metadata": {},
   "outputs": [
    {
     "data": {
      "text/plain": [
       "Gender          0\n",
       "Age Range       0\n",
       "Head Size       0\n",
       "Brain Weight    0\n",
       "dtype: int64"
      ]
     },
     "execution_count": 6,
     "metadata": {},
     "output_type": "execute_result"
    }
   ],
   "source": [
    "# Null elements\n",
    "data.isnull().sum()"
   ]
  },
  {
   "cell_type": "markdown",
   "metadata": {},
   "source": [
    "There are no missing values in this dataset."
   ]
  },
  {
   "cell_type": "markdown",
   "metadata": {},
   "source": [
    "## **3.** Data Preparation"
   ]
  },
  {
   "cell_type": "code",
   "execution_count": 86,
   "metadata": {},
   "outputs": [],
   "source": [
    "X = data[['Gender', 'Age Range', 'Head Size']]\n",
    "Y = data['Brain Weight']"
   ]
  },
  {
   "cell_type": "code",
   "execution_count": 87,
   "metadata": {},
   "outputs": [
    {
     "data": {
      "text/plain": [
       "Gender       int64\n",
       "Age Range    int64\n",
       "Head Size    int64\n",
       "dtype: object"
      ]
     },
     "execution_count": 87,
     "metadata": {},
     "output_type": "execute_result"
    }
   ],
   "source": [
    "X.dtypes"
   ]
  },
  {
   "cell_type": "markdown",
   "metadata": {},
   "source": [
    "This is not good, the 'Age Range' and the 'Gender' are not numbers that should be considered as numbers, they are categories and should therefore be dummies-converted. Actually to 'Age Range' we can apply an Ordinal-Encoding (since it makes sense to give growth meaning), while to 'Gender' we apply a One-Hot-Encoder."
   ]
  },
  {
   "cell_type": "markdown",
   "metadata": {},
   "source": [
    "### **3.1.** One-Hot-Encoding"
   ]
  },
  {
   "cell_type": "code",
   "execution_count": 88,
   "metadata": {},
   "outputs": [
    {
     "data": {
      "text/html": [
       "<div>\n",
       "<style scoped>\n",
       "    .dataframe tbody tr th:only-of-type {\n",
       "        vertical-align: middle;\n",
       "    }\n",
       "\n",
       "    .dataframe tbody tr th {\n",
       "        vertical-align: top;\n",
       "    }\n",
       "\n",
       "    .dataframe thead th {\n",
       "        text-align: right;\n",
       "    }\n",
       "</style>\n",
       "<table border=\"1\" class=\"dataframe\">\n",
       "  <thead>\n",
       "    <tr style=\"text-align: right;\">\n",
       "      <th></th>\n",
       "      <th>0</th>\n",
       "      <th>1</th>\n",
       "    </tr>\n",
       "  </thead>\n",
       "  <tbody>\n",
       "    <tr>\n",
       "      <th>0</th>\n",
       "      <td>1</td>\n",
       "      <td>0</td>\n",
       "    </tr>\n",
       "    <tr>\n",
       "      <th>1</th>\n",
       "      <td>1</td>\n",
       "      <td>0</td>\n",
       "    </tr>\n",
       "    <tr>\n",
       "      <th>2</th>\n",
       "      <td>1</td>\n",
       "      <td>0</td>\n",
       "    </tr>\n",
       "    <tr>\n",
       "      <th>3</th>\n",
       "      <td>1</td>\n",
       "      <td>0</td>\n",
       "    </tr>\n",
       "    <tr>\n",
       "      <th>4</th>\n",
       "      <td>1</td>\n",
       "      <td>0</td>\n",
       "    </tr>\n",
       "  </tbody>\n",
       "</table>\n",
       "</div>"
      ],
      "text/plain": [
       "   0  1\n",
       "0  1  0\n",
       "1  1  0\n",
       "2  1  0\n",
       "3  1  0\n",
       "4  1  0"
      ]
     },
     "execution_count": 88,
     "metadata": {},
     "output_type": "execute_result"
    }
   ],
   "source": [
    "## ONE-HOT-ENCODING: 'Gender'\n",
    "\n",
    "# Encoding\n",
    "gender_encoded = OneHotEncoder().fit_transform(X[['Gender']]);\n",
    "\n",
    "# Transform in a DataFrame\n",
    "gender_encoded = pd.DataFrame(gender_encoded.toarray()).astype(int)\n",
    "\n",
    "# Show results\n",
    "gender_encoded.head()"
   ]
  },
  {
   "cell_type": "code",
   "execution_count": 89,
   "metadata": {},
   "outputs": [
    {
     "data": {
      "text/plain": [
       "0    1\n",
       "1    1\n",
       "2    1\n",
       "3    1\n",
       "4    1\n",
       "Name: Gender, dtype: int64"
      ]
     },
     "execution_count": 89,
     "metadata": {},
     "output_type": "execute_result"
    }
   ],
   "source": [
    "# What is the association?\n",
    "X['Gender'].head()"
   ]
  },
  {
   "cell_type": "code",
   "execution_count": 90,
   "metadata": {},
   "outputs": [
    {
     "data": {
      "text/html": [
       "<div>\n",
       "<style scoped>\n",
       "    .dataframe tbody tr th:only-of-type {\n",
       "        vertical-align: middle;\n",
       "    }\n",
       "\n",
       "    .dataframe tbody tr th {\n",
       "        vertical-align: top;\n",
       "    }\n",
       "\n",
       "    .dataframe thead th {\n",
       "        text-align: right;\n",
       "    }\n",
       "</style>\n",
       "<table border=\"1\" class=\"dataframe\">\n",
       "  <thead>\n",
       "    <tr style=\"text-align: right;\">\n",
       "      <th></th>\n",
       "      <th>Male</th>\n",
       "      <th>Female</th>\n",
       "    </tr>\n",
       "  </thead>\n",
       "  <tbody>\n",
       "    <tr>\n",
       "      <th>0</th>\n",
       "      <td>1</td>\n",
       "      <td>0</td>\n",
       "    </tr>\n",
       "    <tr>\n",
       "      <th>1</th>\n",
       "      <td>1</td>\n",
       "      <td>0</td>\n",
       "    </tr>\n",
       "    <tr>\n",
       "      <th>2</th>\n",
       "      <td>1</td>\n",
       "      <td>0</td>\n",
       "    </tr>\n",
       "    <tr>\n",
       "      <th>3</th>\n",
       "      <td>1</td>\n",
       "      <td>0</td>\n",
       "    </tr>\n",
       "    <tr>\n",
       "      <th>4</th>\n",
       "      <td>1</td>\n",
       "      <td>0</td>\n",
       "    </tr>\n",
       "    <tr>\n",
       "      <th>...</th>\n",
       "      <td>...</td>\n",
       "      <td>...</td>\n",
       "    </tr>\n",
       "    <tr>\n",
       "      <th>232</th>\n",
       "      <td>0</td>\n",
       "      <td>1</td>\n",
       "    </tr>\n",
       "    <tr>\n",
       "      <th>233</th>\n",
       "      <td>0</td>\n",
       "      <td>1</td>\n",
       "    </tr>\n",
       "    <tr>\n",
       "      <th>234</th>\n",
       "      <td>0</td>\n",
       "      <td>1</td>\n",
       "    </tr>\n",
       "    <tr>\n",
       "      <th>235</th>\n",
       "      <td>0</td>\n",
       "      <td>1</td>\n",
       "    </tr>\n",
       "    <tr>\n",
       "      <th>236</th>\n",
       "      <td>0</td>\n",
       "      <td>1</td>\n",
       "    </tr>\n",
       "  </tbody>\n",
       "</table>\n",
       "<p>237 rows × 2 columns</p>\n",
       "</div>"
      ],
      "text/plain": [
       "     Male  Female\n",
       "0       1       0\n",
       "1       1       0\n",
       "2       1       0\n",
       "3       1       0\n",
       "4       1       0\n",
       "..    ...     ...\n",
       "232     0       1\n",
       "233     0       1\n",
       "234     0       1\n",
       "235     0       1\n",
       "236     0       1\n",
       "\n",
       "[237 rows x 2 columns]"
      ]
     },
     "execution_count": 90,
     "metadata": {},
     "output_type": "execute_result"
    }
   ],
   "source": [
    "# It is possible to conclude:\n",
    "#   1 -> Male   -> [1, 0]\n",
    "#   2 -> Female -> [0, 1]\n",
    "\n",
    "gender_encoded.columns = ['Male', 'Female']\n",
    "gender_encoded"
   ]
  },
  {
   "cell_type": "markdown",
   "metadata": {},
   "source": [
    "### **3.2.** Ordinal-Encoding"
   ]
  },
  {
   "cell_type": "code",
   "execution_count": 93,
   "metadata": {},
   "outputs": [
    {
     "data": {
      "text/html": [
       "<div>\n",
       "<style scoped>\n",
       "    .dataframe tbody tr th:only-of-type {\n",
       "        vertical-align: middle;\n",
       "    }\n",
       "\n",
       "    .dataframe tbody tr th {\n",
       "        vertical-align: top;\n",
       "    }\n",
       "\n",
       "    .dataframe thead th {\n",
       "        text-align: right;\n",
       "    }\n",
       "</style>\n",
       "<table border=\"1\" class=\"dataframe\">\n",
       "  <thead>\n",
       "    <tr style=\"text-align: right;\">\n",
       "      <th></th>\n",
       "      <th>0</th>\n",
       "    </tr>\n",
       "  </thead>\n",
       "  <tbody>\n",
       "    <tr>\n",
       "      <th>0</th>\n",
       "      <td>0</td>\n",
       "    </tr>\n",
       "    <tr>\n",
       "      <th>1</th>\n",
       "      <td>0</td>\n",
       "    </tr>\n",
       "    <tr>\n",
       "      <th>2</th>\n",
       "      <td>0</td>\n",
       "    </tr>\n",
       "    <tr>\n",
       "      <th>3</th>\n",
       "      <td>0</td>\n",
       "    </tr>\n",
       "    <tr>\n",
       "      <th>4</th>\n",
       "      <td>0</td>\n",
       "    </tr>\n",
       "  </tbody>\n",
       "</table>\n",
       "</div>"
      ],
      "text/plain": [
       "   0\n",
       "0  0\n",
       "1  0\n",
       "2  0\n",
       "3  0\n",
       "4  0"
      ]
     },
     "execution_count": 93,
     "metadata": {},
     "output_type": "execute_result"
    }
   ],
   "source": [
    "## ORDINAL-ENCODING: 'Age Range' \n",
    "\n",
    "# Encoding\n",
    "age_encoded = OrdinalEncoder().fit_transform(X[['Age Range']]);\n",
    "\n",
    "# Transform in a DataFrame\n",
    "age_encoded = pd.DataFrame(age_encoded).astype(int)\n",
    "\n",
    "# Show results\n",
    "age_encoded.head()"
   ]
  },
  {
   "cell_type": "code",
   "execution_count": 94,
   "metadata": {},
   "outputs": [
    {
     "data": {
      "text/html": [
       "<div>\n",
       "<style scoped>\n",
       "    .dataframe tbody tr th:only-of-type {\n",
       "        vertical-align: middle;\n",
       "    }\n",
       "\n",
       "    .dataframe tbody tr th {\n",
       "        vertical-align: top;\n",
       "    }\n",
       "\n",
       "    .dataframe thead th {\n",
       "        text-align: right;\n",
       "    }\n",
       "</style>\n",
       "<table border=\"1\" class=\"dataframe\">\n",
       "  <thead>\n",
       "    <tr style=\"text-align: right;\">\n",
       "      <th></th>\n",
       "      <th>0</th>\n",
       "    </tr>\n",
       "  </thead>\n",
       "  <tbody>\n",
       "    <tr>\n",
       "      <th>0</th>\n",
       "      <td>1</td>\n",
       "    </tr>\n",
       "    <tr>\n",
       "      <th>1</th>\n",
       "      <td>1</td>\n",
       "    </tr>\n",
       "    <tr>\n",
       "      <th>2</th>\n",
       "      <td>1</td>\n",
       "    </tr>\n",
       "    <tr>\n",
       "      <th>3</th>\n",
       "      <td>1</td>\n",
       "    </tr>\n",
       "    <tr>\n",
       "      <th>4</th>\n",
       "      <td>1</td>\n",
       "    </tr>\n",
       "  </tbody>\n",
       "</table>\n",
       "</div>"
      ],
      "text/plain": [
       "   0\n",
       "0  1\n",
       "1  1\n",
       "2  1\n",
       "3  1\n",
       "4  1"
      ]
     },
     "execution_count": 94,
     "metadata": {},
     "output_type": "execute_result"
    }
   ],
   "source": [
    "# Perform a replacement to have: 0 == <18, 1 == >18\n",
    "age_encoded = age_encoded.replace({0:1, 1:0})\n",
    "age_encoded.head()"
   ]
  },
  {
   "cell_type": "code",
   "execution_count": 95,
   "metadata": {},
   "outputs": [
    {
     "data": {
      "text/plain": [
       "0    1\n",
       "1    1\n",
       "2    1\n",
       "3    1\n",
       "4    1\n",
       "Name: Age Range, dtype: int64"
      ]
     },
     "execution_count": 95,
     "metadata": {},
     "output_type": "execute_result"
    }
   ],
   "source": [
    "# What is the association?\n",
    "X['Age Range'].head()"
   ]
  },
  {
   "cell_type": "code",
   "execution_count": null,
   "metadata": {},
   "outputs": [],
   "source": [
    "# It is possible to conclude:\n",
    "#   1 -> >18 -> 1\n",
    "#   2 -> <18 -> 0"
   ]
  },
  {
   "cell_type": "markdown",
   "metadata": {},
   "source": [
    "### **3.3.** Update"
   ]
  },
  {
   "cell_type": "code",
   "execution_count": 96,
   "metadata": {},
   "outputs": [
    {
     "data": {
      "text/html": [
       "<div>\n",
       "<style scoped>\n",
       "    .dataframe tbody tr th:only-of-type {\n",
       "        vertical-align: middle;\n",
       "    }\n",
       "\n",
       "    .dataframe tbody tr th {\n",
       "        vertical-align: top;\n",
       "    }\n",
       "\n",
       "    .dataframe thead th {\n",
       "        text-align: right;\n",
       "    }\n",
       "</style>\n",
       "<table border=\"1\" class=\"dataframe\">\n",
       "  <thead>\n",
       "    <tr style=\"text-align: right;\">\n",
       "      <th></th>\n",
       "      <th>Age Range</th>\n",
       "      <th>Head Size</th>\n",
       "      <th>Male</th>\n",
       "      <th>Female</th>\n",
       "    </tr>\n",
       "  </thead>\n",
       "  <tbody>\n",
       "    <tr>\n",
       "      <th>0</th>\n",
       "      <td>1</td>\n",
       "      <td>4512</td>\n",
       "      <td>1</td>\n",
       "      <td>0</td>\n",
       "    </tr>\n",
       "    <tr>\n",
       "      <th>1</th>\n",
       "      <td>1</td>\n",
       "      <td>3738</td>\n",
       "      <td>1</td>\n",
       "      <td>0</td>\n",
       "    </tr>\n",
       "    <tr>\n",
       "      <th>2</th>\n",
       "      <td>1</td>\n",
       "      <td>4261</td>\n",
       "      <td>1</td>\n",
       "      <td>0</td>\n",
       "    </tr>\n",
       "    <tr>\n",
       "      <th>3</th>\n",
       "      <td>1</td>\n",
       "      <td>3777</td>\n",
       "      <td>1</td>\n",
       "      <td>0</td>\n",
       "    </tr>\n",
       "    <tr>\n",
       "      <th>4</th>\n",
       "      <td>1</td>\n",
       "      <td>4177</td>\n",
       "      <td>1</td>\n",
       "      <td>0</td>\n",
       "    </tr>\n",
       "    <tr>\n",
       "      <th>...</th>\n",
       "      <td>...</td>\n",
       "      <td>...</td>\n",
       "      <td>...</td>\n",
       "      <td>...</td>\n",
       "    </tr>\n",
       "    <tr>\n",
       "      <th>232</th>\n",
       "      <td>0</td>\n",
       "      <td>3214</td>\n",
       "      <td>0</td>\n",
       "      <td>1</td>\n",
       "    </tr>\n",
       "    <tr>\n",
       "      <th>233</th>\n",
       "      <td>0</td>\n",
       "      <td>3394</td>\n",
       "      <td>0</td>\n",
       "      <td>1</td>\n",
       "    </tr>\n",
       "    <tr>\n",
       "      <th>234</th>\n",
       "      <td>0</td>\n",
       "      <td>3233</td>\n",
       "      <td>0</td>\n",
       "      <td>1</td>\n",
       "    </tr>\n",
       "    <tr>\n",
       "      <th>235</th>\n",
       "      <td>0</td>\n",
       "      <td>3352</td>\n",
       "      <td>0</td>\n",
       "      <td>1</td>\n",
       "    </tr>\n",
       "    <tr>\n",
       "      <th>236</th>\n",
       "      <td>0</td>\n",
       "      <td>3391</td>\n",
       "      <td>0</td>\n",
       "      <td>1</td>\n",
       "    </tr>\n",
       "  </tbody>\n",
       "</table>\n",
       "<p>237 rows × 4 columns</p>\n",
       "</div>"
      ],
      "text/plain": [
       "     Age Range  Head Size  Male  Female\n",
       "0            1       4512     1       0\n",
       "1            1       3738     1       0\n",
       "2            1       4261     1       0\n",
       "3            1       3777     1       0\n",
       "4            1       4177     1       0\n",
       "..         ...        ...   ...     ...\n",
       "232          0       3214     0       1\n",
       "233          0       3394     0       1\n",
       "234          0       3233     0       1\n",
       "235          0       3352     0       1\n",
       "236          0       3391     0       1\n",
       "\n",
       "[237 rows x 4 columns]"
      ]
     },
     "execution_count": 96,
     "metadata": {},
     "output_type": "execute_result"
    }
   ],
   "source": [
    "# Add 'Gender' encoded\n",
    "X = pd.concat([X, gender_encoded], axis=1)\n",
    "\n",
    "# Drop the old 'Gender'  \n",
    "X = X.drop('Gender', axis=1) \n",
    "\n",
    "# Substitute 'Age Range' with 'age_encoded'\n",
    "X['Age Range'] = age_encoded\n",
    "\n",
    "# Check\n",
    "X"
   ]
  },
  {
   "cell_type": "markdown",
   "metadata": {},
   "source": [
    "### **3.4.** Split in train and validation"
   ]
  },
  {
   "cell_type": "code",
   "execution_count": 97,
   "metadata": {},
   "outputs": [
    {
     "name": "stdout",
     "output_type": "stream",
     "text": [
      "(189, 4)\n",
      "(48, 4)\n",
      "(189,)\n",
      "(48,)\n"
     ]
    }
   ],
   "source": [
    "X_train, X_test, Y_train, Y_test = train_test_split(X, Y, test_size = 0.2, random_state=5)\n",
    "print(X_train.shape)\n",
    "print(X_test.shape)\n",
    "print(Y_train.shape)\n",
    "print(Y_test.shape)"
   ]
  },
  {
   "cell_type": "markdown",
   "metadata": {},
   "source": [
    "## **4.** Linear Regression with **Scikit-Learn**"
   ]
  },
  {
   "cell_type": "markdown",
   "metadata": {},
   "source": [
    "### **4.1.** Training"
   ]
  },
  {
   "cell_type": "markdown",
   "metadata": {},
   "source": [
    "Let us compare simple and regularized linear regression:\n",
    "\n",
    "* **Linear regression** fits a linear model with coefficients $\\boldsymbol{w}$ to minimize the residual sum of squares between the observed targets in the dataset and the targets predicted by the linear approximation:<br><br>$\\qquad\\min_{\\boldsymbol{w}} ||\\boldsymbol{w}\\,\\boldsymbol{X} - y||_2^2$\n",
    "\n",
    "* **Rdige regression** imposes a penalty on the size of the coefficients, namely its coefficients minimize a penalized residual sum of squares:<br><br>$\\qquad\\min_{\\boldsymbol{w}} ||\\boldsymbol{w}\\,\\boldsymbol{X} - y||_2^2 +\\alpha||\\boldsymbol{w}||_2^2$<br><br>\n",
    "The complexity parameter $\\alpha\\geq 0$ controls the amount of shrinkage: the larger the value of $\\alpha$, the greater the amount of shrinkage and thus the coefficients become more robust to collinearity.\n",
    "\n",
    "* **Lasso regression** is a linear model that estimates sparse coefficients. It is useful in some contexts due to its tendency to prefer solutions with fewer non-zero coefficients, effectively reducing the number of features upon which the given solution is dependent. It consists of a linear model with an added regularization term. The objective function to minimize is:<br><br>\n",
    "$\\qquad\\min_{\\boldsymbol{w}} \\frac{1}{2\\,n_{samples}}||\\boldsymbol{w}\\,\\boldsymbol{X} - y||_2^2 +\\alpha||\\boldsymbol{w}||_1$<br><br>\n",
    "The lasso estimate thus solves the minimization of the least-squares penalty with $\\alpha||\\boldsymbol{w}||_1$ added.\n",
    "\n",
    "* **ElasticNet regression** is a linear regression model trained with both Ridge and Lasso regularizations on the coefficients. This combination allows for learning a sparse model where few of the weights are non-zero like Lasso, while still maintaining the regularization properties of Ridge. We control the convex combination of the two regularization methods with the parameter $\\rho$. Elastic-net is useful when there are multiple features that are correlated with one another. Lasso is likely to pick one of these at random, while elastic-net is likely to pick both. The objective function to minimize is:<br><br>\n",
    "$\\qquad\\min_{\\boldsymbol{w}} \\frac{1}{2\\,n_{samples}}||\\boldsymbol{w}\\,\\boldsymbol{X} - y||_2^2 +\\alpha\\rho||\\boldsymbol{w}||_1 + \\frac{\\alpha(1-\\rho)}{2}||\\boldsymbol{w}||_2^2$<br>"
   ]
  },
  {
   "cell_type": "code",
   "execution_count": 116,
   "metadata": {},
   "outputs": [],
   "source": [
    "# Define models\n",
    "models = {\n",
    "    'Linear'     : LinearRegression(),\n",
    "    'Ridge'      : Ridge(),\n",
    "    'Lasso'      : Lasso(),\n",
    "    'ElasticNet' : ElasticNet()}"
   ]
  },
  {
   "cell_type": "code",
   "execution_count": 117,
   "metadata": {},
   "outputs": [],
   "source": [
    "def train_models(models, X_train, X_test, Y_train, Y_test):\n",
    "\n",
    "    np.random.seed(42)\n",
    "\n",
    "    count_models = 0 \n",
    "\n",
    "    for name, model in models.items():\n",
    "\n",
    "        # Training/Fitting\n",
    "        model.fit(X_train, Y_train)\n",
    "\n",
    "        # Predictions (on the training set)\n",
    "        Y_pred_train = model.predict(X_train)\n",
    "       \n",
    "        # Metrics\n",
    "        model_train_score = model.score(X_train, Y_train)\n",
    "        model_test_score  = model.score(X_test, Y_test)\n",
    "        model_mse         = mean_squared_error(Y_train, Y_pred_train)\n",
    "        model_rmse        = np.sqrt(mean_squared_error(Y_train, Y_pred_train))\n",
    "        model_mae         = mean_absolute_error(Y_train, Y_pred_train)\n",
    "        model_r2          = r2_score(Y_train, Y_pred_train)\n",
    "\n",
    "        # If this is the first model trained we create the DataFrame 'results'\n",
    "        if count_models == 0:\n",
    "            results = pd.DataFrame([\n",
    "                model_train_score, \n",
    "                model_test_score, \n",
    "                model_mse, \n",
    "                model_rmse, \n",
    "                model_mae, \n",
    "                model_r2],\n",
    "                index = ['Train Accuracy', 'Test Accuracy', 'MSE', 'RMSE', 'MAE', 'R2'],\n",
    "                columns = [name])\n",
    "\n",
    "        # otherwise we just append the results to the already-existsing DataFrame 'results'\n",
    "        else:\n",
    "            results[name] = [\n",
    "                model_train_score, \n",
    "                model_test_score, \n",
    "                model_mse, \n",
    "                model_rmse, \n",
    "                model_mae, \n",
    "                model_r2]\n",
    "\n",
    "        count_models += 1\n",
    "        \n",
    "    print(f'Trained {count_models} models')\n",
    "\n",
    "    return results.T\n"
   ]
  },
  {
   "cell_type": "code",
   "execution_count": 118,
   "metadata": {},
   "outputs": [
    {
     "name": "stdout",
     "output_type": "stream",
     "text": [
      "Trained 4 models\n"
     ]
    }
   ],
   "source": [
    "results = train_models(models, X_train, X_test, Y_train, Y_test)"
   ]
  },
  {
   "cell_type": "markdown",
   "metadata": {},
   "source": [
    "### **4.2.** Model choice"
   ]
  },
  {
   "cell_type": "markdown",
   "metadata": {},
   "source": [
    "Some good metrics to consider to choose the model:\n",
    "\n",
    "* **MSE** - Mean Squared Error<br><br>\n",
    "$\\qquad MSE = \\frac{1}{n}\\sum_i (y_i - \\hat{y}_i)^2$<br><br>\n",
    "The mean squared error (MSE) or mean squared deviation (MSD) of an estimator (of a procedure for estimating an unobserved quantity) measures the average of the squares of the errors, that is, the average squared difference between the estimated values and the actual value.\n",
    "\n",
    "* **RMSE** - Root Mean Square Error<br><br>\n",
    "$\\qquad RMSE = \\sqrt{MSE} = \\sqrt{\\frac{1}{n}\\sum_i (y_i - \\hat{y}_i)^2}$<br><br>\n",
    "The root-mean-square error (RMSE), or root-mean-square deviation (RMSD), is a frequently used measure of the differences between values (sample or population values) predicted by a model or an estimator and the values observed.\n",
    "\n",
    "* **MAE** - Mean Absolute Error<br><br>\n",
    "$\\qquad MAE = \\frac{1}{n} \\sum_i |y_i - \\hat{y}_i|$<br><br>\n",
    "Mean absolute error (MAE) is frequently used for regression. In particular, MAE is used for regressions for which we don’t want outliers to play a big role.\n",
    "\n",
    "* **R**$^{\\boldsymbol{2}}$ - Coefficient of determination<br><br>\n",
    "$\\qquad R^2 = 1 - \\frac{SS_{res}}{SS_{tot}}$<br><br>\n",
    "where $SS_{res} = \\sum_i (y_i - \\hat{y}_i)^2$ is the *residual sum of squares* and $SS_{tot} = \\sum_i (y_i - \\bar{y})^2$ is the *total sum of squares* ($\\bar{y} = \\frac{1}{n}\\sum_i y_i$).<br>\n",
    "A baseline model, which always predicts $\\bar{y}$ has $R^2=0$. Models that have worse predictions that this baseline will have a negative $R^2$. In the case in which the model values match exatcly the observed values ($SS_{res}=0$) it happens that $R^2=1$."
   ]
  },
  {
   "cell_type": "code",
   "execution_count": 122,
   "metadata": {},
   "outputs": [
    {
     "data": {
      "text/html": [
       "<div>\n",
       "<style scoped>\n",
       "    .dataframe tbody tr th:only-of-type {\n",
       "        vertical-align: middle;\n",
       "    }\n",
       "\n",
       "    .dataframe tbody tr th {\n",
       "        vertical-align: top;\n",
       "    }\n",
       "\n",
       "    .dataframe thead th {\n",
       "        text-align: right;\n",
       "    }\n",
       "</style>\n",
       "<table border=\"1\" class=\"dataframe\">\n",
       "  <thead>\n",
       "    <tr style=\"text-align: right;\">\n",
       "      <th></th>\n",
       "      <th>Train Accuracy</th>\n",
       "      <th>Test Accuracy</th>\n",
       "      <th>MSE</th>\n",
       "      <th>RMSE</th>\n",
       "      <th>MAE</th>\n",
       "      <th>R2</th>\n",
       "    </tr>\n",
       "  </thead>\n",
       "  <tbody>\n",
       "    <tr>\n",
       "      <th>Linear</th>\n",
       "      <td>0.614110</td>\n",
       "      <td>0.776742</td>\n",
       "      <td>5403.786805</td>\n",
       "      <td>73.510454</td>\n",
       "      <td>57.113235</td>\n",
       "      <td>0.614110</td>\n",
       "    </tr>\n",
       "    <tr>\n",
       "      <th>Ridge</th>\n",
       "      <td>0.614105</td>\n",
       "      <td>0.776455</td>\n",
       "      <td>5403.858223</td>\n",
       "      <td>73.510939</td>\n",
       "      <td>57.101169</td>\n",
       "      <td>0.614105</td>\n",
       "    </tr>\n",
       "    <tr>\n",
       "      <th>Lasso</th>\n",
       "      <td>0.613298</td>\n",
       "      <td>0.770211</td>\n",
       "      <td>5415.164016</td>\n",
       "      <td>73.587798</td>\n",
       "      <td>56.962264</td>\n",
       "      <td>0.613298</td>\n",
       "    </tr>\n",
       "    <tr>\n",
       "      <th>ElasticNet</th>\n",
       "      <td>0.608830</td>\n",
       "      <td>0.762208</td>\n",
       "      <td>5477.733661</td>\n",
       "      <td>74.011713</td>\n",
       "      <td>57.154729</td>\n",
       "      <td>0.608830</td>\n",
       "    </tr>\n",
       "  </tbody>\n",
       "</table>\n",
       "</div>"
      ],
      "text/plain": [
       "            Train Accuracy  Test Accuracy          MSE       RMSE        MAE  \\\n",
       "Linear            0.614110       0.776742  5403.786805  73.510454  57.113235   \n",
       "Ridge             0.614105       0.776455  5403.858223  73.510939  57.101169   \n",
       "Lasso             0.613298       0.770211  5415.164016  73.587798  56.962264   \n",
       "ElasticNet        0.608830       0.762208  5477.733661  74.011713  57.154729   \n",
       "\n",
       "                  R2  \n",
       "Linear      0.614110  \n",
       "Ridge       0.614105  \n",
       "Lasso       0.613298  \n",
       "ElasticNet  0.608830  "
      ]
     },
     "execution_count": 122,
     "metadata": {},
     "output_type": "execute_result"
    }
   ],
   "source": [
    "# Overall results\n",
    "results"
   ]
  },
  {
   "cell_type": "code",
   "execution_count": 123,
   "metadata": {},
   "outputs": [
    {
     "name": "stdout",
     "output_type": "stream",
     "text": [
      "Metrics to maximize: \n"
     ]
    },
    {
     "data": {
      "text/html": [
       "<style type=\"text/css\">\n",
       "#T_4a1a3_row0_col0, #T_4a1a3_row0_col1, #T_4a1a3_row0_col2 {\n",
       "  background-color: lightgreen;\n",
       "}\n",
       "</style>\n",
       "<table id=\"T_4a1a3\">\n",
       "  <thead>\n",
       "    <tr>\n",
       "      <th class=\"blank level0\" >&nbsp;</th>\n",
       "      <th id=\"T_4a1a3_level0_col0\" class=\"col_heading level0 col0\" >Train Accuracy</th>\n",
       "      <th id=\"T_4a1a3_level0_col1\" class=\"col_heading level0 col1\" >Test Accuracy</th>\n",
       "      <th id=\"T_4a1a3_level0_col2\" class=\"col_heading level0 col2\" >R2</th>\n",
       "    </tr>\n",
       "  </thead>\n",
       "  <tbody>\n",
       "    <tr>\n",
       "      <th id=\"T_4a1a3_level0_row0\" class=\"row_heading level0 row0\" >Linear</th>\n",
       "      <td id=\"T_4a1a3_row0_col0\" class=\"data row0 col0\" >0.614110</td>\n",
       "      <td id=\"T_4a1a3_row0_col1\" class=\"data row0 col1\" >0.776742</td>\n",
       "      <td id=\"T_4a1a3_row0_col2\" class=\"data row0 col2\" >0.614110</td>\n",
       "    </tr>\n",
       "    <tr>\n",
       "      <th id=\"T_4a1a3_level0_row1\" class=\"row_heading level0 row1\" >Ridge</th>\n",
       "      <td id=\"T_4a1a3_row1_col0\" class=\"data row1 col0\" >0.614105</td>\n",
       "      <td id=\"T_4a1a3_row1_col1\" class=\"data row1 col1\" >0.776455</td>\n",
       "      <td id=\"T_4a1a3_row1_col2\" class=\"data row1 col2\" >0.614105</td>\n",
       "    </tr>\n",
       "    <tr>\n",
       "      <th id=\"T_4a1a3_level0_row2\" class=\"row_heading level0 row2\" >Lasso</th>\n",
       "      <td id=\"T_4a1a3_row2_col0\" class=\"data row2 col0\" >0.613298</td>\n",
       "      <td id=\"T_4a1a3_row2_col1\" class=\"data row2 col1\" >0.770211</td>\n",
       "      <td id=\"T_4a1a3_row2_col2\" class=\"data row2 col2\" >0.613298</td>\n",
       "    </tr>\n",
       "    <tr>\n",
       "      <th id=\"T_4a1a3_level0_row3\" class=\"row_heading level0 row3\" >ElasticNet</th>\n",
       "      <td id=\"T_4a1a3_row3_col0\" class=\"data row3 col0\" >0.608830</td>\n",
       "      <td id=\"T_4a1a3_row3_col1\" class=\"data row3 col1\" >0.762208</td>\n",
       "      <td id=\"T_4a1a3_row3_col2\" class=\"data row3 col2\" >0.608830</td>\n",
       "    </tr>\n",
       "  </tbody>\n",
       "</table>\n"
      ],
      "text/plain": [
       "<pandas.io.formats.style.Styler at 0x1b4f426e490>"
      ]
     },
     "execution_count": 123,
     "metadata": {},
     "output_type": "execute_result"
    }
   ],
   "source": [
    "metrics_to_maximize = ['Train Accuracy', 'Test Accuracy', 'R2']\n",
    "metrics_to_minimize = ['MSE', 'RMSE', 'MAE']\n",
    "\n",
    "print('Metrics to maximize: ')\n",
    "results[metrics_to_maximize].style.highlight_max(color= 'lightgreen', axis=0)"
   ]
  },
  {
   "cell_type": "code",
   "execution_count": 124,
   "metadata": {},
   "outputs": [
    {
     "name": "stdout",
     "output_type": "stream",
     "text": [
      "Metrics to minimize: \n"
     ]
    },
    {
     "data": {
      "text/html": [
       "<style type=\"text/css\">\n",
       "#T_90754_row0_col0, #T_90754_row0_col1, #T_90754_row2_col2 {\n",
       "  background-color: lightgreen;\n",
       "}\n",
       "</style>\n",
       "<table id=\"T_90754\">\n",
       "  <thead>\n",
       "    <tr>\n",
       "      <th class=\"blank level0\" >&nbsp;</th>\n",
       "      <th id=\"T_90754_level0_col0\" class=\"col_heading level0 col0\" >MSE</th>\n",
       "      <th id=\"T_90754_level0_col1\" class=\"col_heading level0 col1\" >RMSE</th>\n",
       "      <th id=\"T_90754_level0_col2\" class=\"col_heading level0 col2\" >MAE</th>\n",
       "    </tr>\n",
       "  </thead>\n",
       "  <tbody>\n",
       "    <tr>\n",
       "      <th id=\"T_90754_level0_row0\" class=\"row_heading level0 row0\" >Linear</th>\n",
       "      <td id=\"T_90754_row0_col0\" class=\"data row0 col0\" >5403.786805</td>\n",
       "      <td id=\"T_90754_row0_col1\" class=\"data row0 col1\" >73.510454</td>\n",
       "      <td id=\"T_90754_row0_col2\" class=\"data row0 col2\" >57.113235</td>\n",
       "    </tr>\n",
       "    <tr>\n",
       "      <th id=\"T_90754_level0_row1\" class=\"row_heading level0 row1\" >Ridge</th>\n",
       "      <td id=\"T_90754_row1_col0\" class=\"data row1 col0\" >5403.858223</td>\n",
       "      <td id=\"T_90754_row1_col1\" class=\"data row1 col1\" >73.510939</td>\n",
       "      <td id=\"T_90754_row1_col2\" class=\"data row1 col2\" >57.101169</td>\n",
       "    </tr>\n",
       "    <tr>\n",
       "      <th id=\"T_90754_level0_row2\" class=\"row_heading level0 row2\" >Lasso</th>\n",
       "      <td id=\"T_90754_row2_col0\" class=\"data row2 col0\" >5415.164016</td>\n",
       "      <td id=\"T_90754_row2_col1\" class=\"data row2 col1\" >73.587798</td>\n",
       "      <td id=\"T_90754_row2_col2\" class=\"data row2 col2\" >56.962264</td>\n",
       "    </tr>\n",
       "    <tr>\n",
       "      <th id=\"T_90754_level0_row3\" class=\"row_heading level0 row3\" >ElasticNet</th>\n",
       "      <td id=\"T_90754_row3_col0\" class=\"data row3 col0\" >5477.733661</td>\n",
       "      <td id=\"T_90754_row3_col1\" class=\"data row3 col1\" >74.011713</td>\n",
       "      <td id=\"T_90754_row3_col2\" class=\"data row3 col2\" >57.154729</td>\n",
       "    </tr>\n",
       "  </tbody>\n",
       "</table>\n"
      ],
      "text/plain": [
       "<pandas.io.formats.style.Styler at 0x1b4f42843a0>"
      ]
     },
     "execution_count": 124,
     "metadata": {},
     "output_type": "execute_result"
    }
   ],
   "source": [
    "print('Metrics to minimize: ')\n",
    "results[metrics_to_minimize].style.highlight_min(color='lightgreen', axis=0)"
   ]
  },
  {
   "cell_type": "markdown",
   "metadata": {},
   "source": [
    "### **4.3.** Model evaluation"
   ]
  },
  {
   "cell_type": "markdown",
   "metadata": {},
   "source": [
    "Overall, the linear model is the best."
   ]
  },
  {
   "cell_type": "code",
   "execution_count": 125,
   "metadata": {},
   "outputs": [],
   "source": [
    "# Training of the model\n",
    "model = LinearRegression()\n",
    "model.fit(X_train, Y_train);"
   ]
  },
  {
   "cell_type": "code",
   "execution_count": 126,
   "metadata": {},
   "outputs": [],
   "source": [
    "# Coefficients analysis\n",
    "\n",
    "coefficients = {}\n",
    "\n",
    "# Save the coefficients\n",
    "for i in range(len(model.coef_)):\n",
    "    coefficients[X.columns[i]] = model.coef_[i]\n",
    "\n",
    "# Add the intercept\n",
    "coefficients['Intercept'] = model.intercept_"
   ]
  },
  {
   "cell_type": "code",
   "execution_count": 127,
   "metadata": {},
   "outputs": [
    {
     "data": {
      "text/html": [
       "<div>\n",
       "<style scoped>\n",
       "    .dataframe tbody tr th:only-of-type {\n",
       "        vertical-align: middle;\n",
       "    }\n",
       "\n",
       "    .dataframe tbody tr th {\n",
       "        vertical-align: top;\n",
       "    }\n",
       "\n",
       "    .dataframe thead th {\n",
       "        text-align: right;\n",
       "    }\n",
       "</style>\n",
       "<table border=\"1\" class=\"dataframe\">\n",
       "  <thead>\n",
       "    <tr style=\"text-align: right;\">\n",
       "      <th></th>\n",
       "      <th>Age Range</th>\n",
       "      <th>Head Size</th>\n",
       "      <th>Male</th>\n",
       "      <th>Female</th>\n",
       "      <th>Intercept</th>\n",
       "    </tr>\n",
       "  </thead>\n",
       "  <tbody>\n",
       "    <tr>\n",
       "      <th>0</th>\n",
       "      <td>22.562647</td>\n",
       "      <td>0.242566</td>\n",
       "      <td>7.104745</td>\n",
       "      <td>-7.104745</td>\n",
       "      <td>393.024595</td>\n",
       "    </tr>\n",
       "  </tbody>\n",
       "</table>\n",
       "</div>"
      ],
      "text/plain": [
       "   Age Range  Head Size      Male    Female   Intercept\n",
       "0  22.562647   0.242566  7.104745 -7.104745  393.024595"
      ]
     },
     "execution_count": 127,
     "metadata": {},
     "output_type": "execute_result"
    }
   ],
   "source": [
    "coefficients_dataframe = pd.DataFrame(coefficients.values()).T\n",
    "coefficients_dataframe.columns = coefficients.keys()\n",
    "coefficients_dataframe"
   ]
  },
  {
   "cell_type": "code",
   "execution_count": 128,
   "metadata": {},
   "outputs": [
    {
     "data": {
      "image/png": "[encoded data removed]",
      "text/plain": [
       "<Figure size 1080x360 with 2 Axes>"
      ]
     },
     "metadata": {
      "needs_background": "light"
     },
     "output_type": "display_data"
    }
   ],
   "source": [
    "plt.figure(figsize=(15, 5))\n",
    "\n",
    "plt.subplot(1,2,1)\n",
    "sns.barplot(data = coefficients_dataframe);\n",
    "plt.title('With Intercept');\n",
    "\n",
    "plt.subplot(1,2,2)\n",
    "sns.barplot(data = coefficients_dataframe[['Age Range', 'Head Size', 'Male', 'Female']]);\n",
    "plt.title('Without Intercept');"
   ]
  },
  {
   "cell_type": "code",
   "execution_count": 129,
   "metadata": {},
   "outputs": [
    {
     "name": "stdout",
     "output_type": "stream",
     "text": [
      "R2 Score: 0.6141102935912988\n",
      "Training Accuracy: 0.6141102935912988\n",
      "Test Accuracy: 0.7767424819420188\n",
      "Mean Absolute Error: 57.11323529480088\n",
      "Mean Square Error: 5403.78680464104\n",
      "Root Mean Square Error: 73.5104537099387\n"
     ]
    }
   ],
   "source": [
    "# Evaluation\n",
    "Y_pred_train = model.predict(X_train)\n",
    "\n",
    "# Metrics\n",
    "r2          = r2_score(Y_train, Y_pred_train)\n",
    "mae         = mean_absolute_error(Y_train, Y_pred_train)\n",
    "mse         = mean_squared_error(Y_train, Y_pred_train)\n",
    "rmse        = np.sqrt(mse)\n",
    "score_train = model.score(X_train, Y_train)\n",
    "score_test  = model.score(X_test, Y_test)\n",
    "\n",
    "print(f'R2 Score: {r2}')\n",
    "print(f'Training Accuracy: {score_train}')\n",
    "print(f'Test Accuracy: {score_test}')\n",
    "print(f'Mean Absolute Error: {mae}')\n",
    "print(f'Mean Square Error: {mse}')\n",
    "print(f'Root Mean Square Error: {rmse}')"
   ]
  }
 ],
 "metadata": {
  "kernelspec": {
   "display_name": "Python 3.9.10 64-bit (system)",
   "language": "python",
   "name": "python3"
  },
  "language_info": {
   "codemirror_mode": {
    "name": "ipython",
    "version": 3
   },
   "file_extension": ".py",
   "mimetype": "text/x-python",
   "name": "python",
   "nbconvert_exporter": "python",
   "pygments_lexer": "ipython3",
   "version": "3.9.10"
  },
  "orig_nbformat": 4,
  "vscode": {
   "interpreter": {
    "hash": "9805bccb659ffcb6952b8b29440036fac091f8170d71a5a402ad9a8f2988209f"
   }
  }
 },
 "nbformat": 4,
 "nbformat_minor": 2
}
