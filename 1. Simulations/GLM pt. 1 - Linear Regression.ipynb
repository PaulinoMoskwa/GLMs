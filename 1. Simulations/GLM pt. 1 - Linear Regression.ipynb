{
 "cells": [
  {
   "cell_type": "markdown",
   "metadata": {},
   "source": [
    "# **Linear Regression via `sklearn` and `statsmodels`**"
   ]
  },
  {
   "cell_type": "markdown",
   "metadata": {},
   "source": [
    "## **0.** Settings"
   ]
  },
  {
   "cell_type": "code",
   "execution_count": 1,
   "metadata": {},
   "outputs": [],
   "source": [
    "from sklearn.model_selection import train_test_split\n",
    "from sklearn.linear_model    import LinearRegression\n",
    "from sklearn.metrics         import mean_squared_error, r2_score\n",
    "from numpy.random            import uniform, normal\n",
    "\n",
    "import matplotlib.pyplot as plt\n",
    "import statsmodels.api as sm\n",
    "import pandas as pd\n",
    "import numpy as np\n",
    "\n",
    "%matplotlib inline"
   ]
  },
  {
   "cell_type": "markdown",
   "metadata": {},
   "source": [
    "## **1.** Dataset"
   ]
  },
  {
   "cell_type": "markdown",
   "metadata": {},
   "source": [
    "In the case of linear regression $Y$ is a real number and it is modeled as:\n",
    "\n",
    "$\\qquad\n",
    "\\begin{cases}\n",
    "        \\;Y\\sim N(\\mu,\\sigma^2)\\\\\n",
    "        \\;\\mu = \\beta_0 + \\beta_1 \\cdot X\n",
    "\\end{cases}\n",
    "$"
   ]
  },
  {
   "cell_type": "code",
   "execution_count": 2,
   "metadata": {},
   "outputs": [],
   "source": [
    "np.random.seed(42)\n",
    "\n",
    "# Parameters\n",
    "n_sample = 500\n",
    "beta_0   = 15\n",
    "beta_1   = 2\n",
    "std_dev  = 0.7\n",
    "liminf_x = 0\n",
    "limsup_x = 10\n",
    "\n",
    "# Data simulation\n",
    "x  = uniform(liminf_x, limsup_x, size=n_sample)\n",
    "mu = beta_0 + beta_1*x\n",
    "y  = normal(mu, std_dev)"
   ]
  },
  {
   "cell_type": "markdown",
   "metadata": {},
   "source": [
    "## **2.** Linear Regression with `sklearn`"
   ]
  },
  {
   "cell_type": "code",
   "execution_count": 3,
   "metadata": {},
   "outputs": [
    {
     "name": "stdout",
     "output_type": "stream",
     "text": [
      "True model: y ~ N(μ, σ^2)\n",
      "True μ = 15 + 2 * x\n",
      "Regression μ = 14.89 + 2.03 * x\n",
      "Mean squared error: 0.4848\n",
      "Coefficient of determination: 0.9855\n"
     ]
    },
    {
     "data": {
      "image/png": "[encoded data removed]",
      "text/plain": [
       "<Figure size 720x360 with 1 Axes>"
      ]
     },
     "metadata": {
      "needs_background": "light"
     },
     "output_type": "display_data"
    }
   ],
   "source": [
    "# Train and test\n",
    "x_train, x_test, y_train, y_test = train_test_split(x, y, test_size = 0.3, random_state = 42)\n",
    "\n",
    "# Linear Regression\n",
    "#   Note:   It is needed to give both the fit and predict methods 2D arrays. \n",
    "#           Right now x_train and x_test are currently only 1 dimensional.\n",
    "#           What we shoudl do to fix it is: \n",
    "x_train = x_train.reshape(-1, 1)\n",
    "x_test  = x_test.reshape(-1, 1)\n",
    "\n",
    "# Create linear regression object\n",
    "model = LinearRegression()\n",
    "\n",
    "# Train the model using the training sets\n",
    "model.fit(x_train, y_train);\n",
    "\n",
    "# Make predictions using the testing set\n",
    "y_pred = model.predict(x_test)\n",
    "\n",
    "# The coefficients\n",
    "print('True model: y ~ N(μ, σ^2)')\n",
    "print('True μ =', beta_0, '+', beta_1, '* x')\n",
    "print('Regression μ = %.2f' % model.intercept_, '+ %.2f' % model.coef_[0], '* x')\n",
    "\n",
    "# The mean squared error\n",
    "print('Mean squared error: %.4f' % mean_squared_error(y_train, model.predict(x_train)))\n",
    "\n",
    "# The coefficient of determination: 1 is perfect prediction\n",
    "print('Coefficient of determination: %.4f' % r2_score(y_test, y_pred))\n",
    "\n",
    "# Plot outputs\n",
    "plt.figure(figsize=(10,5));\n",
    "plt.scatter(x_test, y_test)\n",
    "plt.plot(x_test, y_pred, color='red', linewidth=3);\n",
    "plt.title('Linear Regression');\n",
    "plt.xlabel('X');\n",
    "plt.ylabel('Y');"
   ]
  },
  {
   "cell_type": "markdown",
   "metadata": {},
   "source": [
    "## **3.** Linear Regression with `statsmodels`"
   ]
  },
  {
   "cell_type": "code",
   "execution_count": 4,
   "metadata": {},
   "outputs": [
    {
     "name": "stdout",
     "output_type": "stream",
     "text": [
      "                            OLS Regression Results                            \n",
      "==============================================================================\n",
      "Dep. Variable:                      y   R-squared:                       0.987\n",
      "Model:                            OLS   Adj. R-squared:                  0.987\n",
      "Method:                 Least Squares   F-statistic:                 2.620e+04\n",
      "Date:                Wed, 15 Jun 2022   Prob (F-statistic):               0.00\n",
      "Time:                        16:05:37   Log-Likelihood:                -369.94\n",
      "No. Observations:                 350   AIC:                             743.9\n",
      "Df Residuals:                     348   BIC:                             751.6\n",
      "Df Model:                           1                                         \n",
      "Covariance Type:            nonrobust                                         \n",
      "==============================================================================\n",
      "                 coef    std err          t      P>|t|      [0.025      0.975]\n",
      "------------------------------------------------------------------------------\n",
      "const         14.8912      0.074    202.316      0.000      14.746      15.036\n",
      "x1             2.0254      0.013    161.863      0.000       2.001       2.050\n",
      "==============================================================================\n",
      "Omnibus:                        0.403   Durbin-Watson:                   2.041\n",
      "Prob(Omnibus):                  0.818   Jarque-Bera (JB):                0.505\n",
      "Skew:                           0.071   Prob(JB):                        0.777\n",
      "Kurtosis:                       2.879   Cond. No.                         11.8\n",
      "==============================================================================\n",
      "\n",
      "Notes:\n",
      "[1] Standard Errors assume that the covariance matrix of the errors is correctly specified.\n"
     ]
    }
   ],
   "source": [
    "# Train and test\n",
    "x_train, x_test, y_train, y_test = train_test_split(x, y, test_size = 0.3, random_state = 42)\n",
    "\n",
    "# Add (explicitly) the constant to the model\n",
    "x_train = sm.add_constant(x_train)\n",
    "x_test  = sm.add_constant(x_test)\n",
    "\n",
    "# Fit and summarize OLS model\n",
    "model = sm.OLS(y_train, x_train)\n",
    "model = model.fit()\n",
    "print(model.summary())"
   ]
  },
  {
   "cell_type": "markdown",
   "metadata": {},
   "source": [
    "Some statistical tests.\n",
    "\n",
    "* **Overall F-test for significance**<br>\n",
    "$\\quad$ `p-value = Prob (F-statistic) = 0.00` <br>\n",
    "The F-statistic test is used to test the significance of regression coefficients in linear regression models. If the p-value is less than a certain significance level (*e.g.* 0.05, 0.01), the sample data provide sufficient evidence to conclude that the regression model fits the data better than the model with no independent variables.\n",
    "\n",
    "* **T-test for the intercept and the coefficients**<br>\n",
    "$\\quad$ **`Intercept`** $\\;$ `p-value = P>|t| = 0.00`<br>\n",
    "$\\quad$ **`Coefficient`** $\\;$ `p-value = P>|t| = 0.00`<br>\n",
    "The t-test helps to determine the correlation between the response and the predictor variables. The test is used in linear regression to test the null hypothesis $H_0$ that the slope or the coefficient is equal to zero."
   ]
  },
  {
   "cell_type": "code",
   "execution_count": 5,
   "metadata": {},
   "outputs": [
    {
     "name": "stdout",
     "output_type": "stream",
     "text": [
      "True model: y ~ N(μ, σ^2)\n",
      "True μ = 15 + 2 * x\n",
      "Regression μ = 14.89 + 2.03 * x\n",
      "Mean squared error: 0.52\n",
      "Coefficient of determination: 0.99\n"
     ]
    },
    {
     "data": {
      "image/png": "[encoded data removed]",
      "text/plain": [
       "<Figure size 720x360 with 1 Axes>"
      ]
     },
     "metadata": {
      "needs_background": "light"
     },
     "output_type": "display_data"
    }
   ],
   "source": [
    "# Make predictions using the testing set\n",
    "y_pred = model.predict(x_test)\n",
    "\n",
    "# The coefficients\n",
    "print('True model: y ~ N(μ, σ^2)')\n",
    "print('True μ =', beta_0, '+', beta_1, '* x')\n",
    "print('Regression μ = %.2f' % model.params[0], '+ %.2f' % model.params[1], '* x')\n",
    "\n",
    "# The mean squared error\n",
    "print('Mean squared error: %.2f' % mean_squared_error(y_test, y_pred))\n",
    "\n",
    "# The coefficient of determination: 1 is perfect prediction\n",
    "print('Coefficient of determination: %.2f' % model.rsquared)\n",
    "\n",
    "# Plot outputs\n",
    "plt.figure(figsize=(10,5));\n",
    "plt.scatter(pd.DataFrame(x_test)[1], y_test)\n",
    "plt.plot(pd.DataFrame(x_test)[1], y_pred, color='red', linewidth=3);\n",
    "plt.title('Linear Regression');\n",
    "plt.xlabel('X');\n",
    "plt.ylabel('Y');"
   ]
  }
 ],
 "metadata": {
  "kernelspec": {
   "display_name": "Python 3.9.10 64-bit (system)",
   "language": "python",
   "name": "python3"
  },
  "language_info": {
   "codemirror_mode": {
    "name": "ipython",
    "version": 3
   },
   "file_extension": ".py",
   "mimetype": "text/x-python",
   "name": "python",
   "nbconvert_exporter": "python",
   "pygments_lexer": "ipython3",
   "version": "3.9.10"
  },
  "vscode": {
   "interpreter": {
    "hash": "9805bccb659ffcb6952b8b29440036fac091f8170d71a5a402ad9a8f2988209f"
   }
  }
 },
 "nbformat": 4,
 "nbformat_minor": 2
}
