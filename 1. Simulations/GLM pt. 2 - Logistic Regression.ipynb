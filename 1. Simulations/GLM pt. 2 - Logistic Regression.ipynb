{
 "cells": [
  {
   "cell_type": "markdown",
   "metadata": {},
   "source": [
    "# **Logistic Regression via `sklearn` and `statsmodels`**"
   ]
  },
  {
   "cell_type": "markdown",
   "metadata": {},
   "source": [
    "## **0.** Settings"
   ]
  },
  {
   "cell_type": "code",
   "execution_count": 1,
   "metadata": {},
   "outputs": [],
   "source": [
    "from sklearn.model_selection import train_test_split\n",
    "from sklearn.linear_model    import LogisticRegression\n",
    "from sklearn.metrics         import accuracy_score, precision_score, recall_score, f1_score\n",
    "from numpy.random            import uniform, binomial\n",
    "\n",
    "import matplotlib.pyplot as plt\n",
    "import statsmodels.api as sm\n",
    "import pandas as pd\n",
    "import numpy as np\n",
    "\n",
    "%matplotlib inline"
   ]
  },
  {
   "cell_type": "markdown",
   "metadata": {},
   "source": [
    "## **1.** Dataset"
   ]
  },
  {
   "cell_type": "markdown",
   "metadata": {},
   "source": [
    "In the case of logistic regression $Y$ is a categorical value ($0$ or $1$) and it is modeled as:\n",
    "\n",
    "$\\qquad\n",
    "\\begin{cases}\n",
    "        \\;Y \\sim Bernoulli(\\mu)\\\\\n",
    "        \\;\\log(\\frac{\\mu}{1-\\mu}) = \\beta_0 + \\beta_1 \\cdot X\\\\\n",
    "        \\;\\mu = \\frac{1}{1+e^{- (\\beta_0 + \\beta_1 \\cdot X)}}\n",
    "\\end{cases}\n",
    "$"
   ]
  },
  {
   "cell_type": "code",
   "execution_count": 2,
   "metadata": {},
   "outputs": [],
   "source": [
    "np.random.seed(42)\n",
    "\n",
    "# Parameters\n",
    "n_sample = 500\n",
    "beta_0   = -7.0\n",
    "beta_1   = 2.0\n",
    "liminf_x = 1\n",
    "limsup_x = 10\n",
    "\n",
    "# Data simulation\n",
    "x = uniform(liminf_x, limsup_x, size=n_sample)\n",
    "\n",
    "def logistic_function(x):\n",
    "    return 1 / (1 + np.exp(-x))\n",
    "\n",
    "mu = logistic_function(beta_0 + beta_1*x)\n",
    "y  = binomial(n=1, p=mu)"
   ]
  },
  {
   "cell_type": "markdown",
   "metadata": {},
   "source": [
    "## **2.** Logistic Regression with `sklearn`"
   ]
  },
  {
   "cell_type": "code",
   "execution_count": 3,
   "metadata": {},
   "outputs": [
    {
     "name": "stdout",
     "output_type": "stream",
     "text": [
      "True model: y ~ Bernoulli(μ)\n",
      "True logit(μ) = log(μ/(1-μ)) = -7.0 + 2.0 * x\n",
      "Regression logit(μ) = log(μ/(1-μ)) = -6.47 + 1.92 * x\n",
      "Accuracy:  0.9466666666666667\n",
      "Precision:  0.9537037037037037\n",
      "Recall:  0.9716981132075472\n",
      "F1:  0.9626168224299064\n"
     ]
    },
    {
     "data": {
      "image/png": "[encoded data removed]",
      "text/plain": [
       "<Figure size 720x360 with 1 Axes>"
      ]
     },
     "metadata": {
      "needs_background": "light"
     },
     "output_type": "display_data"
    }
   ],
   "source": [
    "# Train and test\n",
    "x_train, x_test, y_train, y_test = train_test_split(x, y, test_size = 0.3, random_state = 42)\n",
    "\n",
    "# Logistic Regression\n",
    "#   Note:   It is needed to give both the fit and predict methods 2D arrays. \n",
    "#           Right now x_train and x_test are currently only 1 dimensional.\n",
    "#           What we shoudl do to fix it is: \n",
    "x_train = x_train.reshape(-1, 1)\n",
    "\n",
    "# Create linear regression object\n",
    "model = LogisticRegression()\n",
    "\n",
    "# Train the model using the training sets\n",
    "model.fit(x_train, y_train);\n",
    "\n",
    "# Make predictions using the testing set\n",
    "y_pred = model.predict(x_test.reshape(-1, 1))\n",
    "\n",
    "# The coefficients\n",
    "print('True model: y ~ Bernoulli(μ)')\n",
    "print('True logit(μ) = log(μ/(1-μ)) =', beta_0, '+', beta_1, '* x')\n",
    "print('Regression logit(μ) = log(μ/(1-μ)) = %.2f' % model.intercept_[0], '+ %.2f' % model.coef_[0][0], '* x')\n",
    "\n",
    "# Metrics\n",
    "print('Accuracy: ', accuracy_score(y_test, y_pred))\n",
    "print('Precision: ', precision_score(y_test, y_pred))\n",
    "print('Recall: ', recall_score(y_test, y_pred))\n",
    "print('F1: ', f1_score(y_test, y_pred))\n",
    "\n",
    "# Plot outputs\n",
    "x_test_ord = x_test[x_test.argsort()]\n",
    "\n",
    "plt.figure(figsize=(10,5));\n",
    "plt.scatter(x_test, y_test);\n",
    "plt.plot(x_test_ord, logistic_function(model.intercept_[0] + model.coef_[0][0]* x_test_ord), color='red', linewidth=3);\n",
    "plt.title('Logistic Regression');\n",
    "plt.xlabel('X');\n",
    "plt.ylabel('Y');\n"
   ]
  },
  {
   "cell_type": "markdown",
   "metadata": {},
   "source": [
    "Metrics:\n",
    "\n",
    "* **Accuracy**: predicts the overall accuracy of the model $\\big( = \\frac{correct\\;predictions}{predictions} \\big)$\n",
    "\n",
    "* **Precision**: percentage of *true* positive among all the *predicted* positive $\\big( = \\frac{true\\;positive}{true\\;positive \\,+\\, false\\;positive} = \\frac{true\\;positive}{total\\;predicted\\;positive}\\big)$\n",
    "\n",
    "* **Recall**: percentage of the *predicted* positive among all the *true* positive $\\big( = \\frac{true\\;positive}{true\\;positive \\,+\\, false\\;negative} = \\frac{true\\;positive}{total\\;actual\\;positive}\\big)$\n",
    "\n",
    "* **F1 Score**: *harmonic mean* between Precision and Recall values $\\big( = 2\\cdot\\frac{precision\\;\\cdot\\;recall}{precision \\,+\\, recall} \\big)$<br>\n",
    "*F1 Score might be a better measure to use if we need to seek a balance between Precision and Recall AND there is an uneven class distribution (large number of Actual Negatives).*"
   ]
  },
  {
   "cell_type": "markdown",
   "metadata": {},
   "source": [
    "A good summary:\n",
    "\n",
    "<img src=\"..\\Miscellaneous\\confusion_matrix.png\" width=\"600\"/>\n",
    "\n",
    "A good note:\n",
    "\n",
    "<img src=\"..\\Miscellaneous\\accuracy_precision.png\" width=\"600\"/>"
   ]
  },
  {
   "cell_type": "markdown",
   "metadata": {},
   "source": [
    "## **3.** Logistic Regression with `statsmodels`"
   ]
  },
  {
   "cell_type": "code",
   "execution_count": 4,
   "metadata": {},
   "outputs": [
    {
     "name": "stdout",
     "output_type": "stream",
     "text": [
      "Optimization terminated successfully.\n",
      "         Current function value: 0.168052\n",
      "         Iterations 9\n",
      "                           Logit Regression Results                           \n",
      "==============================================================================\n",
      "Dep. Variable:                      y   No. Observations:                  350\n",
      "Model:                          Logit   Df Residuals:                      348\n",
      "Method:                           MLE   Df Model:                            1\n",
      "Date:                Wed, 15 Jun 2022   Pseudo R-squ.:                  0.7126\n",
      "Time:                        16:12:45   Log-Likelihood:                -58.818\n",
      "converged:                       True   LL-Null:                       -204.64\n",
      "Covariance Type:            nonrobust   LLR p-value:                 2.189e-65\n",
      "==============================================================================\n",
      "                 coef    std err          z      P>|z|      [0.025      0.975]\n",
      "------------------------------------------------------------------------------\n",
      "const         -6.9265      0.966     -7.172      0.000      -8.819      -5.034\n",
      "x1             2.0528      0.278      7.387      0.000       1.508       2.597\n",
      "==============================================================================\n",
      "\n",
      "Possibly complete quasi-separation: A fraction 0.26 of observations can be\n",
      "perfectly predicted. This might indicate that there is complete\n",
      "quasi-separation. In this case some parameters will not be identified.\n"
     ]
    }
   ],
   "source": [
    "# Train and test\n",
    "x_train, x_test, y_train, y_test = train_test_split(x, y, test_size = 0.3, random_state = 42)\n",
    "\n",
    "# To have the intercept in the model\n",
    "x_train = sm.add_constant(x_train)\n",
    "x_test  = sm.add_constant(x_test)\n",
    "\n",
    "# Logistic Regression\n",
    "model = sm.Logit(y_train, x_train)\n",
    "model = model.fit()\n",
    "print(model.summary())"
   ]
  },
  {
   "cell_type": "markdown",
   "metadata": {},
   "source": [
    "Some statistical tests.\n",
    "\n",
    "* **LogLikelihood Ratio (LLR) test**<br>\n",
    "$\\quad$ `LLR p-value = 2.189e-65` <br>\n",
    "This test has as $H_0$ the hypothesis that the model should be simplified, as $H_1$ the hypothesis that the model is good as it is. It is calculated as $-2\\cdot\\log\\frac{likelihood(simple\\;model)}{likelihood(fitted\\;model)}$. If the p-value of this test is significantly small, then one can conclude that the predictor or set of predictors significantly improve the model's fit. This is analogous to the F-test used in linear regression analysis to assess the significance of prediction.\n",
    "\n",
    "* **Z-test for the intercept and the coefficients**<br>\n",
    "$\\quad$ **`Intercept`** $\\;$ `p-value = P>|t| = 0.00`<br>\n",
    "$\\quad$ **`Coefficient`** $\\;$ `p-value = P>|t| = 0.00`<br>\n",
    "The z-test helps to determine the correlation between the response and the predictor variables. The test is used in regression to test the null hypothesis $H_0$ that the slope or the coefficient is equal to zero."
   ]
  },
  {
   "cell_type": "code",
   "execution_count": 5,
   "metadata": {},
   "outputs": [
    {
     "name": "stdout",
     "output_type": "stream",
     "text": [
      "True model: y ~ Bernoulli(μ)\n",
      "True logit(μ) = log(μ/(1-μ)) = -7.0 + 2.0 * x\n",
      "Regression logit(μ) = log(μ/(1-μ)) = -6.93 + 2.05 * x\n",
      "Accuracy:  0.7066666666666667\n",
      "Precision:  0.7066666666666667\n",
      "Recall:  1.0\n",
      "F1:  0.828125\n"
     ]
    },
    {
     "data": {
      "image/png": "[encoded data removed]",
      "text/plain": [
       "<Figure size 720x360 with 1 Axes>"
      ]
     },
     "metadata": {
      "needs_background": "light"
     },
     "output_type": "display_data"
    }
   ],
   "source": [
    "# Regression Line\n",
    "y_pred = model.predict(x_test)\n",
    "\n",
    "# The coefficients\n",
    "print('True model: y ~ Bernoulli(μ)')\n",
    "print('True logit(μ) = log(μ/(1-μ)) =', beta_0, '+', beta_1, '* x')\n",
    "print('Regression logit(μ) = log(μ/(1-μ)) = %.2f' % model.params[0], '+ %.2f' % model.params[1], '* x')\n",
    "\n",
    "# Metrics\n",
    "print('Accuracy: ', accuracy_score(y_test, np.ceil(y_pred)))\n",
    "print('Precision: ', precision_score(y_test, np.ceil(y_pred)))\n",
    "print('Recall: ', recall_score(y_test, np.ceil(y_pred)))\n",
    "print('F1: ', f1_score(y_test, np.ceil(y_pred)))\n",
    "\n",
    "# Consider just the variable-column\n",
    "x_test_single_col = pd.DataFrame(x_test)[1]\n",
    "\n",
    "# Sort it (and y_pred)\n",
    "idx = x_test_single_col.argsort()\n",
    "x_test_ord, y_pred_ord = x_test_single_col[idx], y_pred[idx]\n",
    "\n",
    "# Plot\n",
    "plt.figure(figsize=(10,5));\n",
    "plt.scatter(x_test_single_col, y_test);\n",
    "plt.plot(x_test_ord, y_pred_ord, color='red', linewidth=3);\n",
    "plt.title('Logistic Regression');\n",
    "plt.xlabel('X');\n",
    "plt.ylabel('Y');"
   ]
  }
 ],
 "metadata": {
  "kernelspec": {
   "display_name": "Python 3.9.10 64-bit (system)",
   "language": "python",
   "name": "python3"
  },
  "language_info": {
   "codemirror_mode": {
    "name": "ipython",
    "version": 3
   },
   "file_extension": ".py",
   "mimetype": "text/x-python",
   "name": "python",
   "nbconvert_exporter": "python",
   "pygments_lexer": "ipython3",
   "version": "3.9.10"
  },
  "vscode": {
   "interpreter": {
    "hash": "9805bccb659ffcb6952b8b29440036fac091f8170d71a5a402ad9a8f2988209f"
   }
  }
 },
 "nbformat": 4,
 "nbformat_minor": 2
}
