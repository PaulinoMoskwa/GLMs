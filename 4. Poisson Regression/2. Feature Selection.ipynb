{
 "cells": [
  {
   "cell_type": "markdown",
   "metadata": {},
   "source": [
    "# **Poisson Regression**: Smoking and Lung Cancer Dataset 🫁"
   ]
  },
  {
   "cell_type": "markdown",
   "metadata": {},
   "source": [
    "This dataset has information from a Canadian study of mortality by age and smoking status."
   ]
  },
  {
   "cell_type": "markdown",
   "metadata": {},
   "source": [
    "# **Feature Selection**\n",
    "\n",
    "$\\qquad$ <span style=\"color:gray\"><b>0.</b> Settings </span><br>\n",
    "$\\qquad$ <span style=\"color:gray\"><b>1.</b> Dataset </span><br>\n",
    "$\\qquad$ <span style=\"color:gray\"><b>2.</b> Data Preprocessing </span><br>\n",
    "$\\qquad$ <span style=\"color:gray\"><b>3.</b> Feature Selection </span><br>"
   ]
  },
  {
   "cell_type": "markdown",
   "metadata": {},
   "source": [
    "## **0.** Settings"
   ]
  },
  {
   "cell_type": "code",
   "execution_count": 1,
   "metadata": {},
   "outputs": [],
   "source": [
    "# Libraries\n",
    "from sklearn.preprocessing import LabelEncoder\n",
    "import matplotlib.pyplot as plt\n",
    "from io import StringIO\n",
    "import seaborn as sns \n",
    "import pandas as pd  \n",
    "\n",
    "%matplotlib inline"
   ]
  },
  {
   "cell_type": "markdown",
   "metadata": {},
   "source": [
    "## **1.** Dataset"
   ]
  },
  {
   "cell_type": "code",
   "execution_count": null,
   "metadata": {},
   "outputs": [],
   "source": [
    "'''\n",
    "    DATASET INFORMATIONS\n",
    "\n",
    "    |-------|------------|---------------------------------------------------------------------|\n",
    "    | Name  | Data Type  | Description                                                         |\n",
    "    |-------|------------|---------------------------------------------------------------------|\n",
    "    | age   | continuous | Age at the start of follow-up: in five-year age groups coded 1 to 9 |\n",
    "    | smoke | nominal    | Smoking: no, cigar_pipe_only, cigarette_plus, cigarette_only        |\n",
    "    | pop   | nominal    | Population: number of male pensioners followed                      |\n",
    "    | dead  | nominal    | Number of deaths in a six-year period                               |\n",
    "    |-------|------------|---------------------------------------------------------------------|\n",
    "    \n",
    "'''"
   ]
  },
  {
   "cell_type": "code",
   "execution_count": 2,
   "metadata": {},
   "outputs": [
    {
     "data": {
      "text/html": [
       "<div>\n",
       "<style scoped>\n",
       "    .dataframe tbody tr th:only-of-type {\n",
       "        vertical-align: middle;\n",
       "    }\n",
       "\n",
       "    .dataframe tbody tr th {\n",
       "        vertical-align: top;\n",
       "    }\n",
       "\n",
       "    .dataframe thead th {\n",
       "        text-align: right;\n",
       "    }\n",
       "</style>\n",
       "<table border=\"1\" class=\"dataframe\">\n",
       "  <thead>\n",
       "    <tr style=\"text-align: right;\">\n",
       "      <th></th>\n",
       "      <th>age</th>\n",
       "      <th>smoke</th>\n",
       "      <th>pop</th>\n",
       "      <th>dead</th>\n",
       "    </tr>\n",
       "  </thead>\n",
       "  <tbody>\n",
       "    <tr>\n",
       "      <th>0</th>\n",
       "      <td>40-44</td>\n",
       "      <td>no</td>\n",
       "      <td>656</td>\n",
       "      <td>18</td>\n",
       "    </tr>\n",
       "    <tr>\n",
       "      <th>1</th>\n",
       "      <td>45-59</td>\n",
       "      <td>no</td>\n",
       "      <td>359</td>\n",
       "      <td>22</td>\n",
       "    </tr>\n",
       "    <tr>\n",
       "      <th>2</th>\n",
       "      <td>50-54</td>\n",
       "      <td>no</td>\n",
       "      <td>249</td>\n",
       "      <td>19</td>\n",
       "    </tr>\n",
       "    <tr>\n",
       "      <th>3</th>\n",
       "      <td>55-59</td>\n",
       "      <td>no</td>\n",
       "      <td>632</td>\n",
       "      <td>55</td>\n",
       "    </tr>\n",
       "    <tr>\n",
       "      <th>4</th>\n",
       "      <td>60-64</td>\n",
       "      <td>no</td>\n",
       "      <td>1067</td>\n",
       "      <td>117</td>\n",
       "    </tr>\n",
       "  </tbody>\n",
       "</table>\n",
       "</div>"
      ],
      "text/plain": [
       "     age smoke   pop  dead\n",
       "0  40-44    no   656    18\n",
       "1  45-59    no   359    22\n",
       "2  50-54    no   249    19\n",
       "3  55-59    no   632    55\n",
       "4  60-64    no  1067   117"
      ]
     },
     "execution_count": 2,
     "metadata": {},
     "output_type": "execute_result"
    }
   ],
   "source": [
    "# Since the data is in a .dat format (available at: https://data.princeton.edu/wws509/datasets/smoking.dat)\n",
    "\n",
    "temp = u\"\"\"\n",
    "     age         smoke   pop dead\n",
    "1  40-44            no   656   18\n",
    "2  45-59            no   359   22\n",
    "3  50-54            no   249   19\n",
    "4  55-59            no   632   55\n",
    "5  60-64            no  1067  117\n",
    "6  65-69            no   897  170\n",
    "7  70-74            no   668  179\n",
    "8  75-79            no   361  120\n",
    "9    80+            no   274  120\n",
    "10 40-44 cigarPipeOnly   145    2\n",
    "11 45-59 cigarPipeOnly   104    4\n",
    "12 50-54 cigarPipeOnly    98    3\n",
    "13 55-59 cigarPipeOnly   372   38\n",
    "14 60-64 cigarPipeOnly   846  113\n",
    "15 65-69 cigarPipeOnly   949  173\n",
    "16 70-74 cigarPipeOnly   824  212\n",
    "17 75-79 cigarPipeOnly   667  243\n",
    "18   80+ cigarPipeOnly   537  253\n",
    "19 40-44 cigarrettePlus 4531  149\n",
    "20 45-59 cigarrettePlus 3030  169\n",
    "21 50-54 cigarrettePlus 2267  193\n",
    "22 55-59 cigarrettePlus 4682  576\n",
    "23 60-64 cigarrettePlus 6052 1001\n",
    "24 65-69 cigarrettePlus 3880  901\n",
    "25 70-74 cigarrettePlus 2033  613\n",
    "26 75-79 cigarrettePlus  871  337\n",
    "27   80+ cigarrettePlus  345  189\n",
    "28 40-44 cigarretteOnly 3410  124\n",
    "29 45-59 cigarretteOnly 2239  140\n",
    "30 50-54 cigarretteOnly 1851  187\n",
    "31 55-59 cigarretteOnly 3270  514\n",
    "32 60-64 cigarretteOnly 3791  778\n",
    "33 65-69 cigarretteOnly 2421  689\n",
    "34 70-74 cigarretteOnly 1195  432\n",
    "35 75-79 cigarretteOnly  436  214\n",
    "36   80+ cigarretteOnly  113   63\n",
    "\"\"\"\n",
    "\n",
    "data = pd.read_fwf(StringIO(temp), usecols = ['age', 'smoke', 'pop', 'dead'])\n",
    "data.head()"
   ]
  },
  {
   "cell_type": "code",
   "execution_count": 3,
   "metadata": {},
   "outputs": [
    {
     "data": {
      "text/plain": [
       "Index(['age', 'smoke', 'pop', 'dead'], dtype='object')"
      ]
     },
     "execution_count": 3,
     "metadata": {},
     "output_type": "execute_result"
    }
   ],
   "source": [
    "data.columns"
   ]
  },
  {
   "cell_type": "code",
   "execution_count": 4,
   "metadata": {},
   "outputs": [
    {
     "name": "stdout",
     "output_type": "stream",
     "text": [
      "<class 'pandas.core.frame.DataFrame'>\n",
      "RangeIndex: 36 entries, 0 to 35\n",
      "Data columns (total 4 columns):\n",
      " #   Column  Non-Null Count  Dtype \n",
      "---  ------  --------------  ----- \n",
      " 0   age     36 non-null     object\n",
      " 1   smoke   36 non-null     object\n",
      " 2   pop     36 non-null     int64 \n",
      " 3   dead    36 non-null     int64 \n",
      "dtypes: int64(2), object(2)\n",
      "memory usage: 1.2+ KB\n"
     ]
    }
   ],
   "source": [
    "data.info()"
   ]
  },
  {
   "cell_type": "markdown",
   "metadata": {},
   "source": [
    "## **2.** Data Preprocessing"
   ]
  },
  {
   "cell_type": "code",
   "execution_count": 5,
   "metadata": {},
   "outputs": [
    {
     "data": {
      "text/plain": [
       "age      0\n",
       "smoke    0\n",
       "pop      0\n",
       "dead     0\n",
       "dtype: int64"
      ]
     },
     "execution_count": 5,
     "metadata": {},
     "output_type": "execute_result"
    }
   ],
   "source": [
    "# Null elements\n",
    "data.isnull().sum()"
   ]
  },
  {
   "cell_type": "code",
   "execution_count": 6,
   "metadata": {},
   "outputs": [
    {
     "data": {
      "text/plain": [
       "age      False\n",
       "smoke    False\n",
       "pop      False\n",
       "dead     False\n",
       "dtype: bool"
      ]
     },
     "execution_count": 6,
     "metadata": {},
     "output_type": "execute_result"
    }
   ],
   "source": [
    "data.isnull().any()"
   ]
  },
  {
   "cell_type": "code",
   "execution_count": 7,
   "metadata": {},
   "outputs": [
    {
     "data": {
      "text/plain": [
       "(36, 4)"
      ]
     },
     "execution_count": 7,
     "metadata": {},
     "output_type": "execute_result"
    }
   ],
   "source": [
    "data.shape"
   ]
  },
  {
   "cell_type": "code",
   "execution_count": 8,
   "metadata": {},
   "outputs": [
    {
     "data": {
      "text/plain": [
       "Index(['age', 'smoke', 'pop', 'dead'], dtype='object')"
      ]
     },
     "execution_count": 8,
     "metadata": {},
     "output_type": "execute_result"
    }
   ],
   "source": [
    "data.columns"
   ]
  },
  {
   "cell_type": "code",
   "execution_count": 9,
   "metadata": {},
   "outputs": [
    {
     "name": "stdout",
     "output_type": "stream",
     "text": [
      "<class 'pandas.core.frame.DataFrame'>\n",
      "RangeIndex: 36 entries, 0 to 35\n",
      "Data columns (total 4 columns):\n",
      " #   Column  Non-Null Count  Dtype \n",
      "---  ------  --------------  ----- \n",
      " 0   age     36 non-null     object\n",
      " 1   smoke   36 non-null     object\n",
      " 2   pop     36 non-null     int64 \n",
      " 3   dead    36 non-null     int64 \n",
      "dtypes: int64(2), object(2)\n",
      "memory usage: 1.2+ KB\n"
     ]
    }
   ],
   "source": [
    "data.info()"
   ]
  },
  {
   "cell_type": "code",
   "execution_count": 10,
   "metadata": {},
   "outputs": [
    {
     "data": {
      "text/html": [
       "<div>\n",
       "<style scoped>\n",
       "    .dataframe tbody tr th:only-of-type {\n",
       "        vertical-align: middle;\n",
       "    }\n",
       "\n",
       "    .dataframe tbody tr th {\n",
       "        vertical-align: top;\n",
       "    }\n",
       "\n",
       "    .dataframe thead th {\n",
       "        text-align: right;\n",
       "    }\n",
       "</style>\n",
       "<table border=\"1\" class=\"dataframe\">\n",
       "  <thead>\n",
       "    <tr style=\"text-align: right;\">\n",
       "      <th></th>\n",
       "      <th>age</th>\n",
       "      <th>smoke</th>\n",
       "      <th>pop</th>\n",
       "      <th>dead</th>\n",
       "    </tr>\n",
       "  </thead>\n",
       "  <tbody>\n",
       "    <tr>\n",
       "      <th>0</th>\n",
       "      <td>40-44</td>\n",
       "      <td>no</td>\n",
       "      <td>656</td>\n",
       "      <td>18</td>\n",
       "    </tr>\n",
       "    <tr>\n",
       "      <th>1</th>\n",
       "      <td>45-59</td>\n",
       "      <td>no</td>\n",
       "      <td>359</td>\n",
       "      <td>22</td>\n",
       "    </tr>\n",
       "    <tr>\n",
       "      <th>2</th>\n",
       "      <td>50-54</td>\n",
       "      <td>no</td>\n",
       "      <td>249</td>\n",
       "      <td>19</td>\n",
       "    </tr>\n",
       "    <tr>\n",
       "      <th>3</th>\n",
       "      <td>55-59</td>\n",
       "      <td>no</td>\n",
       "      <td>632</td>\n",
       "      <td>55</td>\n",
       "    </tr>\n",
       "    <tr>\n",
       "      <th>4</th>\n",
       "      <td>60-64</td>\n",
       "      <td>no</td>\n",
       "      <td>1067</td>\n",
       "      <td>117</td>\n",
       "    </tr>\n",
       "  </tbody>\n",
       "</table>\n",
       "</div>"
      ],
      "text/plain": [
       "     age smoke   pop  dead\n",
       "0  40-44    no   656    18\n",
       "1  45-59    no   359    22\n",
       "2  50-54    no   249    19\n",
       "3  55-59    no   632    55\n",
       "4  60-64    no  1067   117"
      ]
     },
     "execution_count": 10,
     "metadata": {},
     "output_type": "execute_result"
    }
   ],
   "source": [
    "data.head()"
   ]
  },
  {
   "cell_type": "code",
   "execution_count": 11,
   "metadata": {},
   "outputs": [
    {
     "name": "stdout",
     "output_type": "stream",
     "text": [
      "['40-44' '45-59' '50-54' '55-59' '60-64' '65-69' '70-74' '75-79' '80+']\n",
      "['no' 'cigarPipeOnly' 'cigarrettePlus' 'cigarretteOnly']\n"
     ]
    }
   ],
   "source": [
    "# Convert all the categorical data into numerical data\n",
    "print(data['age'].unique())\n",
    "print(data['smoke'].unique())"
   ]
  },
  {
   "cell_type": "code",
   "execution_count": 12,
   "metadata": {},
   "outputs": [],
   "source": [
    "# Encode categorical features\n",
    "labelEncoder_X = LabelEncoder()\n",
    "data['age']    = labelEncoder_X.fit_transform(data['age'])\n",
    "data['smoke']  = labelEncoder_X.fit_transform(data['smoke'])"
   ]
  },
  {
   "cell_type": "code",
   "execution_count": 13,
   "metadata": {},
   "outputs": [
    {
     "name": "stdout",
     "output_type": "stream",
     "text": [
      "<class 'pandas.core.frame.DataFrame'>\n",
      "RangeIndex: 36 entries, 0 to 35\n",
      "Data columns (total 4 columns):\n",
      " #   Column  Non-Null Count  Dtype\n",
      "---  ------  --------------  -----\n",
      " 0   age     36 non-null     int32\n",
      " 1   smoke   36 non-null     int32\n",
      " 2   pop     36 non-null     int64\n",
      " 3   dead    36 non-null     int64\n",
      "dtypes: int32(2), int64(2)\n",
      "memory usage: 992.0 bytes\n"
     ]
    }
   ],
   "source": [
    "data.info()"
   ]
  },
  {
   "cell_type": "code",
   "execution_count": 14,
   "metadata": {},
   "outputs": [
    {
     "data": {
      "text/html": [
       "<div>\n",
       "<style scoped>\n",
       "    .dataframe tbody tr th:only-of-type {\n",
       "        vertical-align: middle;\n",
       "    }\n",
       "\n",
       "    .dataframe tbody tr th {\n",
       "        vertical-align: top;\n",
       "    }\n",
       "\n",
       "    .dataframe thead th {\n",
       "        text-align: right;\n",
       "    }\n",
       "</style>\n",
       "<table border=\"1\" class=\"dataframe\">\n",
       "  <thead>\n",
       "    <tr style=\"text-align: right;\">\n",
       "      <th></th>\n",
       "      <th>age</th>\n",
       "      <th>smoke</th>\n",
       "      <th>pop</th>\n",
       "      <th>dead</th>\n",
       "    </tr>\n",
       "  </thead>\n",
       "  <tbody>\n",
       "    <tr>\n",
       "      <th>0</th>\n",
       "      <td>0</td>\n",
       "      <td>3</td>\n",
       "      <td>656</td>\n",
       "      <td>18</td>\n",
       "    </tr>\n",
       "    <tr>\n",
       "      <th>1</th>\n",
       "      <td>1</td>\n",
       "      <td>3</td>\n",
       "      <td>359</td>\n",
       "      <td>22</td>\n",
       "    </tr>\n",
       "    <tr>\n",
       "      <th>2</th>\n",
       "      <td>2</td>\n",
       "      <td>3</td>\n",
       "      <td>249</td>\n",
       "      <td>19</td>\n",
       "    </tr>\n",
       "    <tr>\n",
       "      <th>3</th>\n",
       "      <td>3</td>\n",
       "      <td>3</td>\n",
       "      <td>632</td>\n",
       "      <td>55</td>\n",
       "    </tr>\n",
       "    <tr>\n",
       "      <th>4</th>\n",
       "      <td>4</td>\n",
       "      <td>3</td>\n",
       "      <td>1067</td>\n",
       "      <td>117</td>\n",
       "    </tr>\n",
       "  </tbody>\n",
       "</table>\n",
       "</div>"
      ],
      "text/plain": [
       "   age  smoke   pop  dead\n",
       "0    0      3   656    18\n",
       "1    1      3   359    22\n",
       "2    2      3   249    19\n",
       "3    3      3   632    55\n",
       "4    4      3  1067   117"
      ]
     },
     "execution_count": 14,
     "metadata": {},
     "output_type": "execute_result"
    }
   ],
   "source": [
    "data.head()"
   ]
  },
  {
   "cell_type": "markdown",
   "metadata": {},
   "source": [
    "New encoding:\n",
    "\n",
    "* `age`\n",
    "\n",
    "$\\qquad\\quad$ 0 = 40-44<br>\t\n",
    "$\\qquad\\quad$ 1 = 45-59<br>\t\n",
    "$\\qquad\\quad$ 2 = 50-54<br>\t\n",
    "$\\qquad\\quad$ 3 = 55-59<br>\n",
    "$\\qquad\\quad$ 4 = 60-64<br>\n",
    "$\\qquad\\quad$ 5 = 65-69<br>\t\n",
    "$\\qquad\\quad$ 6 = 70-74<br>\t\n",
    "$\\qquad\\quad$ 7 = 75-79<br>\t\n",
    "$\\qquad\\quad$ 8 = 80+<br>\n",
    "\n",
    "* `smoke`\n",
    "\n",
    "$\\qquad\\quad$ 3 = no<br>\n",
    "$\\qquad\\quad$ 0 = cigarPipeOnly<br>\n",
    "$\\qquad\\quad$ 2 = cigarettePlus<br>\n",
    "$\\qquad\\quad$ 1 = cigaretteOnly"
   ]
  },
  {
   "cell_type": "markdown",
   "metadata": {},
   "source": [
    "## **3.** Feature Selection"
   ]
  },
  {
   "cell_type": "code",
   "execution_count": 15,
   "metadata": {},
   "outputs": [
    {
     "data": {
      "image/png": "[encoded data removed]",
      "text/plain": [
       "<Figure size 504x360 with 2 Axes>"
      ]
     },
     "metadata": {
      "needs_background": "light"
     },
     "output_type": "display_data"
    }
   ],
   "source": [
    "# Correlation matrix\n",
    "correlation_matrix = data[['age', 'smoke', 'pop', 'dead']].corr().round(2)\n",
    "\n",
    "plt.figure(figsize=(7,5));\n",
    "sns.heatmap(data=correlation_matrix, annot=True, cmap='coolwarm');"
   ]
  },
  {
   "cell_type": "markdown",
   "metadata": {},
   "source": [
    "The correlation coefficient ranges from -1 to 1:\n",
    "* if the value is close to 1 there is a strong positive correlation between the two variables\n",
    "* if the value is close to -1, the variables have a strong negative correlation\n",
    "\n",
    "To fit a linear regression model, we select those features which have a **high correlation** with our target variable.<br>\n",
    "An important point in selecting features for a linear regression model is to **check for multi-co-linearity**.<br> \n",
    "\n",
    "By looking at the correlation matrix, in concordance with what was seen in the EDA, we can see that 'smoke' is not particularly relevant to the prediction of the target variable. We will consider all variables, but their relevance will have to be observed in detail. "
   ]
  }
 ],
 "metadata": {
  "kernelspec": {
   "display_name": "Python 3.9.10 64-bit (system)",
   "language": "python",
   "name": "python3"
  },
  "language_info": {
   "codemirror_mode": {
    "name": "ipython",
    "version": 3
   },
   "file_extension": ".py",
   "mimetype": "text/x-python",
   "name": "python",
   "nbconvert_exporter": "python",
   "pygments_lexer": "ipython3",
   "version": "3.9.10"
  },
  "orig_nbformat": 4,
  "vscode": {
   "interpreter": {
    "hash": "9805bccb659ffcb6952b8b29440036fac091f8170d71a5a402ad9a8f2988209f"
   }
  }
 },
 "nbformat": 4,
 "nbformat_minor": 2
}
